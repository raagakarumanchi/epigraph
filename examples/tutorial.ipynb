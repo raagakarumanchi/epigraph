{
 "cells": [
  {
   "cell_type": "markdown",
   "metadata": {},
   "source": [
    "# EpitopeGraph Tutorial\n",
    "\n",
    "This tutorial will guide you through using EpitopeGraph for epitope prediction. We'll cover:\n",
    "1. Installation and setup\n",
    "2. Basic usage with SARS-CoV-2 spike protein\n",
    "3. Advanced features\n",
    "4. Visualization and analysis\n",
    "5. Best practices and tips"
   ]
  },
  {
   "cell_type": "markdown",
   "metadata": {},
   "source": [
    "## Installation and Setup\n",
    "\n",
    "EpitopeGraph can be installed using pip or conda:\n",
    "\n",
    "```bash\n",
    "# Using pip\n",
    "pip install epitopegraph\n",
    "\n",
    "# Using conda\n",
    "conda env create -f environment.yml\n",
    "conda activate epitopegraph\n",
    "```"
   ]
  },
  {
   "cell_type": "code",
   "execution_count": null,
   "metadata": {},
   "source": [
    "import numpy as np\n",
    "import matplotlib.pyplot as plt\n",
    "import seaborn as sns\n",
    "from epitopegraph import EpitopeGraph\n",
    "\n",
    "# Set plot style\n",
    "plt.style.use('seaborn')\n",
    "sns.set_context('talk')"
   ]
  }
 ],
 "metadata": {
  "kernelspec": {
   "display_name": "Python 3",
   "language": "python",
   "name": "python3"
  },
  "language_info": {
   "codemirror_mode": {
    "name": "ipython",
    "version": 3
   },
   "file_extension": ".py",
   "mimetype": "text/x-python",
   "name": "python",
   "nbconvert_exporter": "python",
   "pygments_lexer": "ipython3",
   "version": "3.8.0"
  }
 },
 "nbformat": 4,
 "nbformat_minor": 4
}